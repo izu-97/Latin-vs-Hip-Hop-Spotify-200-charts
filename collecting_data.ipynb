{
 "cells": [
  {
   "cell_type": "code",
   "execution_count": 1,
   "metadata": {},
   "outputs": [],
   "source": [
    "from fycharts.SpotifyCharts import SpotifyCharts\n",
    "import sqlalchemy\n",
    "import pandas as pd"
   ]
  },
  {
   "cell_type": "code",
   "execution_count": 2,
   "metadata": {},
   "outputs": [],
   "source": [
    "new_count = []\n"
   ]
  },
  {
   "cell_type": "code",
   "execution_count": 3,
   "metadata": {},
   "outputs": [
    {
     "ename": "IndentationError",
     "evalue": "unexpected indent (<ipython-input-3-ca3dce470d4f>, line 2)",
     "output_type": "error",
     "traceback": [
      "\u001b[1;36m  File \u001b[1;32m\"<ipython-input-3-ca3dce470d4f>\"\u001b[1;36m, line \u001b[1;32m2\u001b[0m\n\u001b[1;33m    try:\u001b[0m\n\u001b[1;37m    ^\u001b[0m\n\u001b[1;31mIndentationError\u001b[0m\u001b[1;31m:\u001b[0m unexpected indent\n"
     ]
    }
   ],
   "source": [
    "#for i in new_count:\n",
    "    try:\n",
    "        api = SpotifyCharts()\n",
    "        connector = sqlalchemy.create_engine(\"sqlite:///spotifycharts.db\", echo=False)\n",
    "        api.top200Weekly(output_file = f\"{i}-top_200_weekly.csv\", output_db = connector, webhook = \"https://mywebhookssite.com/post/\", start = \"2017-01-06\", end = \"2019-12-31\", region = [i])\n",
    "    except:\n",
    "        pass"
   ]
  },
  {
   "cell_type": "code",
   "execution_count": 4,
   "metadata": {},
   "outputs": [],
   "source": [
    "import requests\n",
    "import json\n",
    "import sys\n",
    "import spotipy.util as util"
   ]
  },
  {
   "cell_type": "code",
   "execution_count": 5,
   "metadata": {},
   "outputs": [],
   "source": [
    "import spotipy\n",
    "from spotipy.oauth2 import SpotifyClientCredentials\n",
    "cid = '5fb26683a2864d5e8d1c1e8840cf2128'\n",
    "secret = '926dc94a537c4bb0b02684179d6cc6a8'\n",
    "client_credentials_manager = SpotifyClientCredentials(client_id=cid, client_secret=secret)\n",
    "sp = spotipy.Spotify(client_credentials_manager\n",
    "=\n",
    "client_credentials_manager)"
   ]
  },
  {
   "cell_type": "code",
   "execution_count": 105,
   "metadata": {},
   "outputs": [],
   "source": [
    "scope = \"user-library-read\"\n",
    "\n",
    "if len(sys.argv) > 1:\n",
    "    username = sys.argv[1]\n",
    "else:\n",
    "    print (\"Usage: %s username\" % (sys.argv[0],))\n",
    "    sys.exit()\n",
    "token = util.prompt_for_user_token(username,scope,client_id='5fb26683a2864d5e8d1c1e8840cf2128',\n",
    "                                  client_secret='926dc94a537c4bb0b02684179d6cc6a8', redirect_uri=\"http://localhost/\")"
   ]
  },
  {
   "cell_type": "code",
   "execution_count": 106,
   "metadata": {},
   "outputs": [],
   "source": [
    "sp = spotipy.Spotify(auth=token)"
   ]
  },
  {
   "cell_type": "code",
   "execution_count": 24,
   "metadata": {},
   "outputs": [
    {
     "data": {
      "text/plain": [
       "[{'danceability': 0.696,\n",
       "  'energy': 0.905,\n",
       "  'key': 2,\n",
       "  'loudness': -2.743,\n",
       "  'mode': 1,\n",
       "  'speechiness': 0.103,\n",
       "  'acousticness': 0.011,\n",
       "  'instrumentalness': 0.000905,\n",
       "  'liveness': 0.302,\n",
       "  'valence': 0.625,\n",
       "  'tempo': 114.944,\n",
       "  'type': 'audio_features',\n",
       "  'id': '11dFghVXANMlKmJXsNCbNl',\n",
       "  'uri': 'spotify:track:11dFghVXANMlKmJXsNCbNl',\n",
       "  'track_href': 'https://api.spotify.com/v1/tracks/11dFghVXANMlKmJXsNCbNl',\n",
       "  'analysis_url': 'https://api.spotify.com/v1/audio-analysis/11dFghVXANMlKmJXsNCbNl',\n",
       "  'duration_ms': 207960,\n",
       "  'time_signature': 4}]"
      ]
     },
     "execution_count": 24,
     "metadata": {},
     "output_type": "execute_result"
    }
   ],
   "source": [
    "name = \"11dFghVXANMlKmJXsNCbNl\" #chosen artist\n",
    "result = sp.audio_features(name) #search query\n",
    "result"
   ]
  },
  {
   "cell_type": "code",
   "execution_count": 25,
   "metadata": {},
   "outputs": [],
   "source": [
    "dfcountries = pd.read_csv(\"combined_country_csv.csv\", sep = \",\")"
   ]
  },
  {
   "cell_type": "code",
   "execution_count": 26,
   "metadata": {},
   "outputs": [
    {
     "name": "stdout",
     "output_type": "stream",
     "text": [
      "retrying ...4secs\n",
      "retrying ...4secs\n",
      "retrying ...3secs\n"
     ]
    }
   ],
   "source": [
    "features =[]\n",
    "for i in list(dfcountries[\"spotify_id\"].head(500)):\n",
    "    track_id = i #chosen artist\n",
    "    result = sp.audio_features(track_id) #search query\n",
    "    features.append(result)"
   ]
  },
  {
   "cell_type": "code",
   "execution_count": 70,
   "metadata": {},
   "outputs": [
    {
     "data": {
      "text/plain": [
       "500"
      ]
     },
     "execution_count": 70,
     "metadata": {},
     "output_type": "execute_result"
    }
   ],
   "source": [
    "len(features)"
   ]
  },
  {
   "cell_type": "code",
   "execution_count": 120,
   "metadata": {},
   "outputs": [
    {
     "data": {
      "text/plain": [
       "0"
      ]
     },
     "execution_count": 120,
     "metadata": {},
     "output_type": "execute_result"
    }
   ],
   "source": [
    "name = \"20tEOuLV0x6pbG9ZNJP0cZ\" #chosen artist\n",
    "result = sp.artist(name) #search query\n",
    "result[\"genres\"]"
   ]
  },
  {
   "cell_type": "code",
   "execution_count": 115,
   "metadata": {},
   "outputs": [
    {
     "data": {
      "text/plain": [
       "'cumbia pop'"
      ]
     },
     "execution_count": 115,
     "metadata": {},
     "output_type": "execute_result"
    }
   ],
   "source": [
    "result[\"genres\"][0]"
   ]
  },
  {
   "cell_type": "code",
   "execution_count": null,
   "metadata": {},
   "outputs": [],
   "source": []
  }
 ],
 "metadata": {
  "kernelspec": {
   "display_name": "Python 3",
   "language": "python",
   "name": "python3"
  },
  "language_info": {
   "codemirror_mode": {
    "name": "ipython",
    "version": 3
   },
   "file_extension": ".py",
   "mimetype": "text/x-python",
   "name": "python",
   "nbconvert_exporter": "python",
   "pygments_lexer": "ipython3",
   "version": "3.7.5"
  }
 },
 "nbformat": 4,
 "nbformat_minor": 2
}
